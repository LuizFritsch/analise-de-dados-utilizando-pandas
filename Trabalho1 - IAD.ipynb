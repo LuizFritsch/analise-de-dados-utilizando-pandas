{
 "cells": [
  {
   "cell_type": "code",
   "execution_count": 70,
   "metadata": {},
   "outputs": [],
   "source": [
    "import pandas as pd\n",
    "import numpy as np\n",
    "import io\n",
    "import csv\n",
    "import re\n",
    "from datetime import datetime"
   ]
  },
  {
   "cell_type": "code",
   "execution_count": 71,
   "metadata": {},
   "outputs": [],
   "source": [
    "name = 'dadosImoveisPrefeituraAlegrete'\n",
    "filename = name+'.csv'"
   ]
  },
  {
   "cell_type": "code",
   "execution_count": 72,
   "metadata": {},
   "outputs": [],
   "source": [
    "localizacao = []\n",
    "descricao = []\n",
    "dataDeAquisicao = []\n",
    "departamento = []\n",
    "observacoes = []\n",
    "nmrPorSetor = 0\n",
    "with io.open(filename,'r',encoding='utf8',errors=\"ignore\",newline='') as f:\n",
    "    reader = csv.reader(f)\n",
    "\n",
    "    i = 0\n",
    "    for row in reader:\n",
    "        #Cada linha virava uma lista\t\t\t\t\n",
    "        #transformo todos elementos dessa lista numa string unica\n",
    "        str1 = ''.join(row)\n",
    "        #crio uma lista com elementos que vao ate ;,  \n",
    "        list = str1.split(';')\n",
    "        #no csv temos dois tipos de elementos com apenas um indice\n",
    "        if len(list)==1:\n",
    "\n",
    "            #os que contem apenas o nome do bairro\n",
    "            if \"na divis\" not in list[0]:\n",
    "                local = list[0]\n",
    "\n",
    "            #E os que contem informacoes sobre a quantidade de terrenos naquele bairro, setor ou etc\n",
    "            else:\n",
    "                nmrPorSetor = int(list[0].split(' ', 1)[0])\n",
    "                for x in range(0,nmrPorSetor):\n",
    "                    localizacao.append(local)\n",
    "\n",
    "        #para os elementos que tem 4, sabemos que eles contem informacoes sobre o terreno em si\n",
    "        if len(list)>1:\n",
    "            try:\n",
    "                descricao.append(list[0])\n",
    "                data = str(list[1])\n",
    "                try:\n",
    "                    dataDeAquisicao.append(datetime.strptime(data,\"%d/%m/%Y\"))\n",
    "                except Exception as e:\n",
    "                    print (data)\n",
    "                    print (\"Erro ao converter uma data: \",e)\n",
    "                departamento.append(list[2])\n",
    "                observacoes.append(list[3])\n",
    "            except Exception as e:\n",
    "                print (\"\\nError.: \"+str(e))\n",
    "        i+=1"
   ]
  },
  {
   "cell_type": "code",
   "execution_count": 73,
   "metadata": {},
   "outputs": [],
   "source": [
    "df = pd.DataFrame({'localizacao':localizacao,\n",
    "                   'descricao':descricao,\n",
    "                   'dataDeAquisicao':dataDeAquisicao,\n",
    "                   'departamento':departamento,\n",
    "                   'observacoes':observacoes})\n"
   ]
  },
  {
   "cell_type": "code",
   "execution_count": 74,
   "metadata": {},
   "outputs": [],
   "source": [
    "def criaData(dataDesejada):\n",
    "    try:\n",
    "        data = datetime.strptime(dataDesejada,\"%d/%m/%Y\")\n",
    "        return data\n",
    "    except Exception as e:\n",
    "        print (\" Data invalida: \"+str(e))"
   ]
  },
  {
   "cell_type": "code",
   "execution_count": 10,
   "metadata": {},
   "outputs": [],
   "source": [
    "def calculaQuantosMenorQueData(df,dataDesejada):\n",
    "\n",
    "    count = 0\n",
    "\n",
    "    for d in df['dataDeAquisicao']:\n",
    "\n",
    "        if d<dataDesejada:\n",
    "            count+=1\n",
    "\n",
    "    return count"
   ]
  },
  {
   "cell_type": "code",
   "execution_count": 12,
   "metadata": {},
   "outputs": [],
   "source": [
    "def calculaQuantosMaiorQueData(df,dataDesejada):\n",
    "\n",
    "    count = 0\n",
    "\n",
    "    for d in df['dataDeAquisicao']:\n",
    "    \n",
    "        try:\n",
    "            if d>dataDesejada:\n",
    "                count+=1\n",
    "        except Exception as e:\n",
    "            pass\n",
    "            \n",
    "    return count"
   ]
  },
  {
   "cell_type": "code",
   "execution_count": 13,
   "metadata": {},
   "outputs": [],
   "source": [
    "def imoveisPorMandato(df,dataInicio,dataFim):\n",
    "\n",
    "        count = 0\n",
    "\n",
    "        for d in df['dataDeAquisicao']:\n",
    "        \n",
    "            try:\n",
    "                if d>=dataInicio and d<=dataFim:\n",
    "                    count+=1\n",
    "            except Exception as e:\n",
    "                pass\n",
    "\n",
    "        return count"
   ]
  },
  {
   "cell_type": "code",
   "execution_count": 14,
   "metadata": {},
   "outputs": [],
   "source": [
    "def containsObs(df,stg):\n",
    "        try:\n",
    "            count = df['observacoes'].str.contains(stg,regex=False).value_counts()\n",
    "            return count\n",
    "        except Exception as e:\n",
    "            print(\"Nao foi possivel calcular quantos imoveis contem em sua observacao a string \"+stg+\" :(\") "
   ]
  },
  {
   "cell_type": "markdown",
   "metadata": {},
   "source": [
    "#quantidade de imoveis adquiridos por mandato"
   ]
  },
  {
   "cell_type": "code",
   "execution_count": 15,
   "metadata": {},
   "outputs": [
    {
     "data": {
      "text/plain": [
       "0"
      ]
     },
     "execution_count": 15,
     "metadata": {},
     "output_type": "execute_result"
    }
   ],
   "source": [
    "#quantidade de imoveis adquiridos por mandato\n",
    "imoveisPorMandato(df,criaData(\"1/1/1968\"),criaData(\"31/12/1972\")) "
   ]
  },
  {
   "cell_type": "code",
   "execution_count": 16,
   "metadata": {},
   "outputs": [
    {
     "data": {
      "text/plain": [
       "1"
      ]
     },
     "execution_count": 16,
     "metadata": {},
     "output_type": "execute_result"
    }
   ],
   "source": [
    "#quantidade de imoveis adquiridos por mandato\n",
    "imoveisPorMandato(df,criaData(\"1/1/1973\"),criaData(\"31/12/1976\"))"
   ]
  },
  {
   "cell_type": "code",
   "execution_count": 17,
   "metadata": {},
   "outputs": [
    {
     "data": {
      "text/plain": [
       "4"
      ]
     },
     "execution_count": 17,
     "metadata": {},
     "output_type": "execute_result"
    }
   ],
   "source": [
    "#quantidade de imoveis adquiridos por mandato\n",
    "imoveisPorMandato(df,criaData(\"1/1/1977\"),criaData(\"31/12/1982\"))"
   ]
  },
  {
   "cell_type": "code",
   "execution_count": 18,
   "metadata": {},
   "outputs": [
    {
     "data": {
      "text/plain": [
       "5"
      ]
     },
     "execution_count": 18,
     "metadata": {},
     "output_type": "execute_result"
    }
   ],
   "source": [
    "#quantidade de imoveis adquiridos por mandato\n",
    "imoveisPorMandato(df,criaData(\"1/1/1983\"),criaData(\"31/12/1988\"))"
   ]
  },
  {
   "cell_type": "code",
   "execution_count": 19,
   "metadata": {},
   "outputs": [
    {
     "data": {
      "text/plain": [
       "3"
      ]
     },
     "execution_count": 19,
     "metadata": {},
     "output_type": "execute_result"
    }
   ],
   "source": [
    "#quantidade de imoveis adquiridos por mandato\n",
    "imoveisPorMandato(df,criaData(\"1/1/1989\"),criaData(\"31/12/1992\"))"
   ]
  },
  {
   "cell_type": "code",
   "execution_count": 20,
   "metadata": {},
   "outputs": [
    {
     "data": {
      "text/plain": [
       "0"
      ]
     },
     "execution_count": 20,
     "metadata": {},
     "output_type": "execute_result"
    }
   ],
   "source": [
    "#quantidade de imoveis adquiridos por mandato\n",
    "imoveisPorMandato(df,criaData(\"1/1/1993\"),criaData(\"31/12/1996\"))"
   ]
  },
  {
   "cell_type": "code",
   "execution_count": 21,
   "metadata": {},
   "outputs": [
    {
     "data": {
      "text/plain": [
       "5"
      ]
     },
     "execution_count": 21,
     "metadata": {},
     "output_type": "execute_result"
    }
   ],
   "source": [
    "#quantidade de imoveis adquiridos por mandato\n",
    "imoveisPorMandato(df,criaData(\"1/1/1997\"),criaData(\"31/12/2000\"))"
   ]
  },
  {
   "cell_type": "code",
   "execution_count": 22,
   "metadata": {},
   "outputs": [
    {
     "data": {
      "text/plain": [
       "11"
      ]
     },
     "execution_count": 22,
     "metadata": {},
     "output_type": "execute_result"
    }
   ],
   "source": [
    "#quantidade de imoveis adquiridos por mandato\n",
    "imoveisPorMandato(df,criaData(\"1/1/2001\"),criaData(\"31/12/2004\"))"
   ]
  },
  {
   "cell_type": "code",
   "execution_count": 23,
   "metadata": {},
   "outputs": [
    {
     "data": {
      "text/plain": [
       "19"
      ]
     },
     "execution_count": 23,
     "metadata": {},
     "output_type": "execute_result"
    }
   ],
   "source": [
    "#quantidade de imoveis adquiridos por mandato\n",
    "imoveisPorMandato(df,criaData(\"1/1/2005\"),criaData(\"31/12/2007\"))"
   ]
  },
  {
   "cell_type": "code",
   "execution_count": 24,
   "metadata": {},
   "outputs": [
    {
     "data": {
      "text/plain": [
       "4"
      ]
     },
     "execution_count": 24,
     "metadata": {},
     "output_type": "execute_result"
    }
   ],
   "source": [
    "#quantidade de imoveis adquiridos por mandato\n",
    "imoveisPorMandato(df,criaData(\"1/1/2008\"),criaData(\"31/12/2011\"))"
   ]
  },
  {
   "cell_type": "code",
   "execution_count": 25,
   "metadata": {},
   "outputs": [
    {
     "data": {
      "text/plain": [
       "2"
      ]
     },
     "execution_count": 25,
     "metadata": {},
     "output_type": "execute_result"
    }
   ],
   "source": [
    "#quantidade de imoveis adquiridos por mandato\n",
    "imoveisPorMandato(df,criaData(\"1/1/2012\"),criaData(\"31/12/2016\"))"
   ]
  },
  {
   "cell_type": "code",
   "execution_count": 26,
   "metadata": {},
   "outputs": [
    {
     "data": {
      "text/plain": [
       "0"
      ]
     },
     "execution_count": 26,
     "metadata": {},
     "output_type": "execute_result"
    }
   ],
   "source": [
    "#quantidade de imoveis adquiridos por mandato\n",
    "imoveisPorMandato(df,criaData(\"1/1/2016\"),criaData(\"31/12/2018\"))"
   ]
  },
  {
   "cell_type": "code",
   "execution_count": 27,
   "metadata": {},
   "outputs": [
    {
     "data": {
      "text/html": [
       "<div>\n",
       "<style scoped>\n",
       "    .dataframe tbody tr th:only-of-type {\n",
       "        vertical-align: middle;\n",
       "    }\n",
       "\n",
       "    .dataframe tbody tr th {\n",
       "        vertical-align: top;\n",
       "    }\n",
       "\n",
       "    .dataframe thead th {\n",
       "        text-align: right;\n",
       "    }\n",
       "</style>\n",
       "<table border=\"1\" class=\"dataframe\">\n",
       "  <thead>\n",
       "    <tr style=\"text-align: right;\">\n",
       "      <th></th>\n",
       "      <th>dataDeAquisicao</th>\n",
       "      <th>departamento</th>\n",
       "      <th>descricao</th>\n",
       "      <th>localizacao</th>\n",
       "      <th>observacoes</th>\n",
       "    </tr>\n",
       "  </thead>\n",
       "  <tbody>\n",
       "    <tr>\n",
       "      <th>0</th>\n",
       "      <td>2007-01-05 00:00:00</td>\n",
       "      <td>CADASTRO DE IMVEIS URBANOS-PATRIMNIO</td>\n",
       "      <td>TERRENO MATRCULA 24575</td>\n",
       "      <td>REA DO ANTIGO AEROPORTO</td>\n",
       "      <td>Uma faixa de terreno situado zona leste no bai...</td>\n",
       "    </tr>\n",
       "    <tr>\n",
       "      <th>1</th>\n",
       "      <td>2007-01-05 00:00:00</td>\n",
       "      <td>CADASTRO DE IMVEIS URBANOS-PATRIMNIO</td>\n",
       "      <td>TERRENO MATRCULA 25468</td>\n",
       "      <td>REA DO ANTIGO AEROPORTO</td>\n",
       "      <td>Um terreno situado zona leste no bairro projet...</td>\n",
       "    </tr>\n",
       "    <tr>\n",
       "      <th>2</th>\n",
       "      <td>2007-01-05 00:00:00</td>\n",
       "      <td>CADASTRO DE IMVEIS URBANOS-PATRIMNIO</td>\n",
       "      <td>TERRENO MATRCULA 25469</td>\n",
       "      <td>REA DO ANTIGO AEROPORTO</td>\n",
       "      <td>Um terreno situado zona leste no bairro projet...</td>\n",
       "    </tr>\n",
       "    <tr>\n",
       "      <th>3</th>\n",
       "      <td>2007-01-05 00:00:00</td>\n",
       "      <td>CADASTRO DE IMVEIS URBANOS-PATRIMNIO</td>\n",
       "      <td>TERRENO MATRCULA 25470</td>\n",
       "      <td>REA DO ANTIGO AEROPORTO</td>\n",
       "      <td>Um terreno situado zona leste no bairro projet...</td>\n",
       "    </tr>\n",
       "    <tr>\n",
       "      <th>4</th>\n",
       "      <td>2007-01-05 00:00:00</td>\n",
       "      <td>CADASTRO DE IMVEIS URBANOS-PATRIMNIO</td>\n",
       "      <td>TERRENO MATRCULA 25471</td>\n",
       "      <td>REA DO ANTIGO AEROPORTO</td>\n",
       "      <td>Um terreno situado zona leste no bairro projet...</td>\n",
       "    </tr>\n",
       "    <tr>\n",
       "      <th>5</th>\n",
       "      <td>2007-01-25 00:00:00</td>\n",
       "      <td>CADASTRO DE IMVEIS URBANOS-PATRIMNIO</td>\n",
       "      <td>TERRENO MATRCULA 25472</td>\n",
       "      <td>REA DO ANTIGO AEROPORTO</td>\n",
       "      <td>Um terreno situado zona leste no bairro projet...</td>\n",
       "    </tr>\n",
       "    <tr>\n",
       "      <th>6</th>\n",
       "      <td>2007-01-05 00:00:00</td>\n",
       "      <td>CADASTRO DE IMVEIS URBANOS-PATRIMNIO</td>\n",
       "      <td>TERRENO MATRCULA 25473</td>\n",
       "      <td>REA DO ANTIGO AEROPORTO</td>\n",
       "      <td>Um terreno situado zona leste bifurcao formada...</td>\n",
       "    </tr>\n",
       "    <tr>\n",
       "      <th>7</th>\n",
       "      <td>2007-01-05 00:00:00</td>\n",
       "      <td>CADASTRO DE IMVEIS URBANOS-PATRIMNIO</td>\n",
       "      <td>TERRENO MATRCULA 25474</td>\n",
       "      <td>REA DO ANTIGO AEROPORTO</td>\n",
       "      <td>Um terreno situado zona leste no bairro projet...</td>\n",
       "    </tr>\n",
       "    <tr>\n",
       "      <th>8</th>\n",
       "      <td>2007-01-05 00:00:00</td>\n",
       "      <td>CADASTRO DE IMVEIS URBANOS-PATRIMNIO</td>\n",
       "      <td>TERRENO MATRCULA 25476</td>\n",
       "      <td>REA DO ANTIGO AEROPORTO</td>\n",
       "      <td>Uma faixa de terreno situado zona leste no bai...</td>\n",
       "    </tr>\n",
       "    <tr>\n",
       "      <th>9</th>\n",
       "      <td>2007-01-05 00:00:00</td>\n",
       "      <td>CADASTRO DE IMVEIS URBANOS-PATRIMNIO</td>\n",
       "      <td>TERRENO MATRCULA 25477</td>\n",
       "      <td>REA DO ANTIGO AEROPORTO</td>\n",
       "      <td>Uma faixa de terreno situado zona leste no bai...</td>\n",
       "    </tr>\n",
       "    <tr>\n",
       "      <th>10</th>\n",
       "      <td>2005-09-08 00:00:00</td>\n",
       "      <td>CADASTRO DE IMVEIS URBANOS-PATRIMNIO</td>\n",
       "      <td>MATRCULA N 10.795- CENTRO ADMINISTRATIVO MUNIC...</td>\n",
       "      <td>BAIRRO MEDIANEIRA</td>\n",
       "      <td>Um terreno situado nos suburbios na esquina da...</td>\n",
       "    </tr>\n",
       "    <tr>\n",
       "      <th>11</th>\n",
       "      <td>1999-06-25 00:00:00</td>\n",
       "      <td>CADASTRO DE IMVEIS URBANOS-PATRIMNIO</td>\n",
       "      <td>TERRENO MATRCULA 21.327</td>\n",
       "      <td>BAIRRO MEDIANEIRA</td>\n",
       "      <td></td>\n",
       "    </tr>\n",
       "    <tr>\n",
       "      <th>12</th>\n",
       "      <td>1999-06-25 00:00:00</td>\n",
       "      <td>CADASTRO DE IMVEIS URBANOS-PATRIMNIO</td>\n",
       "      <td>TERRENO MATRCULA 21.328</td>\n",
       "      <td>BAIRRO MEDIANEIRA</td>\n",
       "      <td></td>\n",
       "    </tr>\n",
       "    <tr>\n",
       "      <th>13</th>\n",
       "      <td>1999-06-25 00:00:00</td>\n",
       "      <td>CADASTRO DE IMVEIS URBANOS-PATRIMNIO</td>\n",
       "      <td>TERRENO MATRCULA 21.329</td>\n",
       "      <td>BAIRRO MEDIANEIRA</td>\n",
       "      <td></td>\n",
       "    </tr>\n",
       "    <tr>\n",
       "      <th>14</th>\n",
       "      <td>1999-06-25 00:00:00</td>\n",
       "      <td>CADASTRO DE IMVEIS URBANOS-PATRIMNIO</td>\n",
       "      <td>TERRENO MATRCULA 21.330</td>\n",
       "      <td>BAIRRO MEDIANEIRA</td>\n",
       "      <td></td>\n",
       "    </tr>\n",
       "    <tr>\n",
       "      <th>15</th>\n",
       "      <td>1999-06-25 00:00:00</td>\n",
       "      <td>CADASTRO DE IMVEIS URBANOS-PATRIMNIO</td>\n",
       "      <td>TERRENO MATRCULA 21.331</td>\n",
       "      <td>BAIRRO MEDIANEIRA</td>\n",
       "      <td></td>\n",
       "    </tr>\n",
       "    <tr>\n",
       "      <th>16</th>\n",
       "      <td>2001-09-05 00:00:00</td>\n",
       "      <td>CADASTRO DE IMVEIS URBANOS-PATRIMNIO</td>\n",
       "      <td>TERRENO MATRCULA 23.338</td>\n",
       "      <td>BAIRRO MEDIANEIRA</td>\n",
       "      <td></td>\n",
       "    </tr>\n",
       "    <tr>\n",
       "      <th>17</th>\n",
       "      <td>2001-06-05 00:00:00</td>\n",
       "      <td>CADASTRO DE IMVEIS URBANOS-PATRIMNIO</td>\n",
       "      <td>TERRENO MATRCULA 23.339</td>\n",
       "      <td>BAIRRO MEDIANEIRA</td>\n",
       "      <td></td>\n",
       "    </tr>\n",
       "    <tr>\n",
       "      <th>18</th>\n",
       "      <td>2001-09-05 00:00:00</td>\n",
       "      <td>CADASTRO DE IMVEIS URBANOS-PATRIMNIO</td>\n",
       "      <td>TERRENO MATRCULA 23.340</td>\n",
       "      <td>BAIRRO MEDIANEIRA</td>\n",
       "      <td></td>\n",
       "    </tr>\n",
       "    <tr>\n",
       "      <th>19</th>\n",
       "      <td>2001-09-05 00:00:00</td>\n",
       "      <td>CADASTRO DE IMVEIS URBANOS-PATRIMNIO</td>\n",
       "      <td>TERRENO MATRCULA 23.341</td>\n",
       "      <td>BAIRRO MEDIANEIRA</td>\n",
       "      <td></td>\n",
       "    </tr>\n",
       "    <tr>\n",
       "      <th>20</th>\n",
       "      <td>2004-02-27 00:00:00</td>\n",
       "      <td>CADASTRO DE IMVEIS URBANOS-PATRIMNIO</td>\n",
       "      <td>TERRENO MATRCULA 24.356</td>\n",
       "      <td>BAIRRO MEDIANEIRA</td>\n",
       "      <td></td>\n",
       "    </tr>\n",
       "    <tr>\n",
       "      <th>21</th>\n",
       "      <td>2004-02-27 00:00:00</td>\n",
       "      <td>CADASTRO DE IMVEIS URBANOS-PATRIMNIO</td>\n",
       "      <td>TERRENO MATRCULA 24.357</td>\n",
       "      <td>BAIRRO MEDIANEIRA</td>\n",
       "      <td></td>\n",
       "    </tr>\n",
       "    <tr>\n",
       "      <th>22</th>\n",
       "      <td>2004-02-27 00:00:00</td>\n",
       "      <td>CADASTRO DE IMVEIS URBANOS-PATRIMNIO</td>\n",
       "      <td>TERRENO MATRCULA 24.358</td>\n",
       "      <td>BAIRRO MEDIANEIRA</td>\n",
       "      <td></td>\n",
       "    </tr>\n",
       "    <tr>\n",
       "      <th>23</th>\n",
       "      <td>2004-02-27 00:00:00</td>\n",
       "      <td>CADASTRO DE IMVEIS URBANOS-PATRIMNIO</td>\n",
       "      <td>TERRENO MATRCULA 24.359</td>\n",
       "      <td>BAIRRO MEDIANEIRA</td>\n",
       "      <td></td>\n",
       "    </tr>\n",
       "    <tr>\n",
       "      <th>24</th>\n",
       "      <td>2004-02-27 00:00:00</td>\n",
       "      <td>CADASTRO DE IMVEIS URBANOS-PATRIMNIO</td>\n",
       "      <td>TERRENO MATRCULA 24.401</td>\n",
       "      <td>BAIRRO MEDIANEIRA</td>\n",
       "      <td></td>\n",
       "    </tr>\n",
       "    <tr>\n",
       "      <th>25</th>\n",
       "      <td>2004-02-27 00:00:00</td>\n",
       "      <td>CADASTRO DE IMVEIS URBANOS-PATRIMNIO</td>\n",
       "      <td>TERRENO MATRCULA 24.403</td>\n",
       "      <td>BAIRRO MEDIANEIRA</td>\n",
       "      <td></td>\n",
       "    </tr>\n",
       "    <tr>\n",
       "      <th>26</th>\n",
       "      <td>2007-02-15 00:00:00</td>\n",
       "      <td>CADASTRO DE IMVEIS URBANOS-PATRIMNIO</td>\n",
       "      <td>TERRENO MATRCULA 25594 E 12590 MATADOURO VELHO</td>\n",
       "      <td>BAIRRO PEDREIRAS</td>\n",
       "      <td>Uma frao de terras situada nos subrbios desta ...</td>\n",
       "    </tr>\n",
       "    <tr>\n",
       "      <th>27</th>\n",
       "      <td>2007-04-11 00:00:00</td>\n",
       "      <td>CADASTRO DE IMVEIS URBANOS-PATRIMNIO</td>\n",
       "      <td>BAIRRO RENASCER MATRCULA 8870</td>\n",
       "      <td>BAIRRO RENASCER</td>\n",
       "      <td>uma frao de terras siituada na zona urbana des...</td>\n",
       "    </tr>\n",
       "    <tr>\n",
       "      <th>28</th>\n",
       "      <td>2003-11-13 00:00:00</td>\n",
       "      <td>CADASTRO DE IMVEIS URBANOS-PATRIMNIO</td>\n",
       "      <td>EMEB ALCY VARGAS CHEUICHE-TERRENO MATRCULA 24.086</td>\n",
       "      <td>BAIRROS JOS DE ABREU</td>\n",
       "      <td>Terreno localizado na zona urbanalindeiro ao l...</td>\n",
       "    </tr>\n",
       "    <tr>\n",
       "      <th>29</th>\n",
       "      <td>2007-11-16 00:00:00</td>\n",
       "      <td>CADASTRO DE IMVEIS URBANOS-PATRIMNIO</td>\n",
       "      <td>TERRENO MATRCULA 25817</td>\n",
       "      <td>CAPO DO ANGICO</td>\n",
       "      <td>Terreno urbano situado na Vila Capo do Angico ...</td>\n",
       "    </tr>\n",
       "    <tr>\n",
       "      <th>...</th>\n",
       "      <td>...</td>\n",
       "      <td>...</td>\n",
       "      <td>...</td>\n",
       "      <td>...</td>\n",
       "      <td>...</td>\n",
       "    </tr>\n",
       "    <tr>\n",
       "      <th>217</th>\n",
       "      <td>2007-05-15 00:00:00</td>\n",
       "      <td>CADASTRO DE IMVEIS URBANOS-PATRIMNIO</td>\n",
       "      <td>MORADIA TRANSITRIA- MATRCULA N 18783</td>\n",
       "      <td>SETOR N3</td>\n",
       "      <td>Matrcula no RI n 18783</td>\n",
       "    </tr>\n",
       "    <tr>\n",
       "      <th>218</th>\n",
       "      <td>1111-11-11 00:00:00</td>\n",
       "      <td>CADASTRO DE IMVEIS URBANOS-PATRIMNIO</td>\n",
       "      <td>4.6 TERRENO PROLONGAMENTO OESTE RUA SEVERINO R...</td>\n",
       "      <td>SETOR N4</td>\n",
       "      <td>Terreno prolongamento Oeste da rua Severino Ri...</td>\n",
       "    </tr>\n",
       "    <tr>\n",
       "      <th>219</th>\n",
       "      <td>1111-11-11 00:00:00</td>\n",
       "      <td>CADASTRO DE IMVEIS URBANOS-PATRIMNIO</td>\n",
       "      <td>TERRENO NA RU JOS DE ABREU</td>\n",
       "      <td>SETOR N4</td>\n",
       "      <td>s/planta c/certido n8.808</td>\n",
       "    </tr>\n",
       "    <tr>\n",
       "      <th>220</th>\n",
       "      <td>1111-11-11 00:00:00</td>\n",
       "      <td>CADASTRO DE IMVEIS URBANOS-PATRIMNIO</td>\n",
       "      <td>TERRENO NA RUA ALAN KARDEC VILA ASSUNO</td>\n",
       "      <td>SETOR N4</td>\n",
       "      <td>s/planta c/certido n4.886</td>\n",
       "    </tr>\n",
       "    <tr>\n",
       "      <th>221</th>\n",
       "      <td>1111-11-11 00:00:00</td>\n",
       "      <td>CADASTRO DE IMVEIS URBANOS-PATRIMNIO</td>\n",
       "      <td>TERRENO NA RUA BARROS CASSAL</td>\n",
       "      <td>SETOR N4</td>\n",
       "      <td>s/planta c/certido n15.108</td>\n",
       "    </tr>\n",
       "    <tr>\n",
       "      <th>222</th>\n",
       "      <td>1111-11-11 00:00:00</td>\n",
       "      <td>CADASTRO DE IMVEIS URBANOS-PATRIMNIO</td>\n",
       "      <td>TERRENO NA RUA BENTO MANOEL ESQUINA COM BARROS...</td>\n",
       "      <td>SETOR N4</td>\n",
       "      <td>s/planta c/certido n10.411</td>\n",
       "    </tr>\n",
       "    <tr>\n",
       "      <th>223</th>\n",
       "      <td>1111-11-11 00:00:00</td>\n",
       "      <td>CADASTRO DE IMVEIS URBANOS-PATRIMNIO</td>\n",
       "      <td>TERRENO NA RUA PLNIO MACEDO PROLONGAMENTO DE RUA</td>\n",
       "      <td>SETOR N4</td>\n",
       "      <td>s/planta c/certido n10.195</td>\n",
       "    </tr>\n",
       "    <tr>\n",
       "      <th>224</th>\n",
       "      <td>1111-11-11 00:00:00</td>\n",
       "      <td>CADASTRO DE IMVEIS URBANOS-PATRIMNIO</td>\n",
       "      <td>TERRENO NA VILA SO JOAO JOAQUIM (JUNTAMENTE C/...</td>\n",
       "      <td>SETOR N4</td>\n",
       "      <td>s/planta c/certido n1.806</td>\n",
       "    </tr>\n",
       "    <tr>\n",
       "      <th>225</th>\n",
       "      <td>1111-11-11 00:00:00</td>\n",
       "      <td>CADASTRO DE IMVEIS URBANOS-PATRIMNIO</td>\n",
       "      <td>TERRENO NO FIM DA RUA SEVERINO RIBEIRO</td>\n",
       "      <td>SETOR N4</td>\n",
       "      <td>c/planta c/certido n10.19410.195</td>\n",
       "    </tr>\n",
       "    <tr>\n",
       "      <th>226</th>\n",
       "      <td>1111-11-11 00:00:00</td>\n",
       "      <td>CADASTRO DE IMVEIS URBANOS-PATRIMNIO</td>\n",
       "      <td>TERRENO PROLONGAMENTO DA RUA BARO DO RIO BRANC...</td>\n",
       "      <td>SETOR N4</td>\n",
       "      <td>s/planta c/certido n3713</td>\n",
       "    </tr>\n",
       "    <tr>\n",
       "      <th>227</th>\n",
       "      <td>1111-11-11 00:00:00</td>\n",
       "      <td>CADASTRO DE IMVEIS URBANOS-PATRIMNIO</td>\n",
       "      <td>TERRENO SITUADO NA ANTIGA CHCARA DA OLARIA HOJ...</td>\n",
       "      <td>SETOR N4</td>\n",
       "      <td>s/placa c/certido n13.4329.470</td>\n",
       "    </tr>\n",
       "    <tr>\n",
       "      <th>228</th>\n",
       "      <td>1111-11-11 00:00:00</td>\n",
       "      <td>CADASTRO DE IMVEIS URBANOS-PATRIMNIO</td>\n",
       "      <td>UMA FAIXA DE TERRENO NA RUA RIO BRANCO</td>\n",
       "      <td>SETOR N4</td>\n",
       "      <td>c/certido n20.164</td>\n",
       "    </tr>\n",
       "    <tr>\n",
       "      <th>229</th>\n",
       "      <td>1111-11-11 00:00:00</td>\n",
       "      <td>CADASTRO DE IMVEIS URBANOS-PATRIMNIO</td>\n",
       "      <td>UMA FAIXA DE TERRENO NA RUA SENADOR MACHADO</td>\n",
       "      <td>SETOR N4</td>\n",
       "      <td>s/planta c/certido n621</td>\n",
       "    </tr>\n",
       "    <tr>\n",
       "      <th>230</th>\n",
       "      <td>1111-11-11 00:00:00</td>\n",
       "      <td>CADASTRO DE IMVEIS URBANOS-PATRIMNIO</td>\n",
       "      <td>ALBERGUE MUNICIPAL</td>\n",
       "      <td>SETOR N5</td>\n",
       "      <td>c/planta  c/certido  s/n</td>\n",
       "    </tr>\n",
       "    <tr>\n",
       "      <th>231</th>\n",
       "      <td>1111-11-11 00:00:00</td>\n",
       "      <td>CADASTRO DE IMVEIS URBANOS-PATRIMNIO</td>\n",
       "      <td>Colgio Francisco Carlos</td>\n",
       "      <td>SETOR N5</td>\n",
       "      <td>c/planta  c/certido s/n</td>\n",
       "    </tr>\n",
       "    <tr>\n",
       "      <th>232</th>\n",
       "      <td>1111-11-11 00:00:00</td>\n",
       "      <td>CADASTRO DE IMVEIS URBANOS-PATRIMNIO</td>\n",
       "      <td>Creche da Vila Nova</td>\n",
       "      <td>SETOR N5</td>\n",
       "      <td>s/planta  c/certido n11.387</td>\n",
       "    </tr>\n",
       "    <tr>\n",
       "      <th>233</th>\n",
       "      <td>1111-11-11 00:00:00</td>\n",
       "      <td>CADASTRO DE IMVEIS URBANOS-PATRIMNIO</td>\n",
       "      <td>Largo Araci Baez Vila Nova</td>\n",
       "      <td>SETOR N5</td>\n",
       "      <td>(sem documentao)</td>\n",
       "    </tr>\n",
       "    <tr>\n",
       "      <th>234</th>\n",
       "      <td>1111-11-11 00:00:00</td>\n",
       "      <td>CADASTRO DE IMVEIS URBANOS-PATRIMNIO</td>\n",
       "      <td>POSTO MDICO VILA NOVA</td>\n",
       "      <td>SETOR N5</td>\n",
       "      <td>c/planta c/certido n8.586</td>\n",
       "    </tr>\n",
       "    <tr>\n",
       "      <th>235</th>\n",
       "      <td>1111-11-11 00:00:00</td>\n",
       "      <td>CADASTRO DE IMVEIS URBANOS-PATRIMNIO</td>\n",
       "      <td>Terreno na Rua General Sampaio destinado ao Pr...</td>\n",
       "      <td>SETOR N5</td>\n",
       "      <td>s/planta  c/certido n17.730</td>\n",
       "    </tr>\n",
       "    <tr>\n",
       "      <th>236</th>\n",
       "      <td>1111-11-11 00:00:00</td>\n",
       "      <td>CADASTRO DE IMVEIS URBANOS-PATRIMNIO</td>\n",
       "      <td>Terreno na Rua Manoel ManoVila Nova destinado ...</td>\n",
       "      <td>SETOR N5</td>\n",
       "      <td>c/planta  c/certido n12.248</td>\n",
       "    </tr>\n",
       "    <tr>\n",
       "      <th>237</th>\n",
       "      <td>1111-11-11 00:00:00</td>\n",
       "      <td>CADASTRO DE IMVEIS URBANOS-PATRIMNIO</td>\n",
       "      <td>Terreno na Vila Pombal as margens do Rio Ibira...</td>\n",
       "      <td>SETOR N5</td>\n",
       "      <td>s/planta  c/certido n13.923</td>\n",
       "    </tr>\n",
       "    <tr>\n",
       "      <th>238</th>\n",
       "      <td>1111-11-11 00:00:00</td>\n",
       "      <td>CADASTRO DE IMVEIS URBANOS-PATRIMNIO</td>\n",
       "      <td>TERRENO VILA NOVA</td>\n",
       "      <td>SETOR N5</td>\n",
       "      <td>s/planta c/certido n9.544</td>\n",
       "    </tr>\n",
       "    <tr>\n",
       "      <th>239</th>\n",
       "      <td>1111-11-11 00:00:00</td>\n",
       "      <td>CADASTRO DE IMVEIS URBANOS-PATRIMNIO</td>\n",
       "      <td>Vila Tripa</td>\n",
       "      <td>SETOR N5</td>\n",
       "      <td>c/planta  c/certido n22.470 at 22.485</td>\n",
       "    </tr>\n",
       "    <tr>\n",
       "      <th>240</th>\n",
       "      <td>1111-11-11 00:00:00</td>\n",
       "      <td>CADASTRO IMVEIS RURAIS</td>\n",
       "      <td>ESCOLA DEMOCRATINO SILVEIRA(COXILHA VERMELHA)</td>\n",
       "      <td>VASCO ALVES-4 SUBDISTRITO</td>\n",
       "      <td>desativada</td>\n",
       "    </tr>\n",
       "    <tr>\n",
       "      <th>241</th>\n",
       "      <td>1111-11-11 00:00:00</td>\n",
       "      <td>CADASTRO IMVEIS RURAIS</td>\n",
       "      <td>ESCOLA JOO JORGENS(RIVADARIA CORREA)</td>\n",
       "      <td>VASCO ALVES-4 SUBDISTRITO</td>\n",
       "      <td>desativada</td>\n",
       "    </tr>\n",
       "    <tr>\n",
       "      <th>242</th>\n",
       "      <td>1111-11-11 00:00:00</td>\n",
       "      <td>CADASTRO IMVEIS RURAIS</td>\n",
       "      <td>ESCOLA RURAL EDELMIRO FIORAVANTE(VASCO  ALVES)</td>\n",
       "      <td>VASCO ALVES-4 SUBDISTRITO</td>\n",
       "      <td>desativada</td>\n",
       "    </tr>\n",
       "    <tr>\n",
       "      <th>243</th>\n",
       "      <td>1111-11-11 00:00:00</td>\n",
       "      <td>CADASTRO IMVEIS RURAIS</td>\n",
       "      <td>ESCOLA RURAL FRANCISCO DA COSTA SOBRINHO(VASCO...</td>\n",
       "      <td>VASCO ALVES-4 SUBDISTRITO</td>\n",
       "      <td>desativada</td>\n",
       "    </tr>\n",
       "    <tr>\n",
       "      <th>244</th>\n",
       "      <td>1111-11-11 00:00:00</td>\n",
       "      <td>CADASTRO IMVEIS RURAIS</td>\n",
       "      <td>ESCOLA RURAL JORGE DA SILVEIRA PINTO(VASCO ALVES)</td>\n",
       "      <td>VASCO ALVES-4 SUBDISTRITO</td>\n",
       "      <td>desativada</td>\n",
       "    </tr>\n",
       "    <tr>\n",
       "      <th>245</th>\n",
       "      <td>1111-11-11 00:00:00</td>\n",
       "      <td>CADASTRO IMVEIS RURAIS</td>\n",
       "      <td>ESCOLA RURAL LUIZ ARAUJO FILHO9VASCO ALVES)</td>\n",
       "      <td>VASCO ALVES-4 SUBDISTRITO</td>\n",
       "      <td>desativada</td>\n",
       "    </tr>\n",
       "    <tr>\n",
       "      <th>246</th>\n",
       "      <td>1111-11-11 00:00:00</td>\n",
       "      <td>CADASTRO IMVEIS RURAIS</td>\n",
       "      <td>ESCOLA RURAL SOBRADO(EMPRESTADA) (VASCO ALVES)</td>\n",
       "      <td>VASCO ALVES-4 SUBDISTRITO</td>\n",
       "      <td>desativada</td>\n",
       "    </tr>\n",
       "  </tbody>\n",
       "</table>\n",
       "<p>247 rows × 5 columns</p>\n",
       "</div>"
      ],
      "text/plain": [
       "         dataDeAquisicao                          departamento  \\\n",
       "0    2007-01-05 00:00:00  CADASTRO DE IMVEIS URBANOS-PATRIMNIO   \n",
       "1    2007-01-05 00:00:00  CADASTRO DE IMVEIS URBANOS-PATRIMNIO   \n",
       "2    2007-01-05 00:00:00  CADASTRO DE IMVEIS URBANOS-PATRIMNIO   \n",
       "3    2007-01-05 00:00:00  CADASTRO DE IMVEIS URBANOS-PATRIMNIO   \n",
       "4    2007-01-05 00:00:00  CADASTRO DE IMVEIS URBANOS-PATRIMNIO   \n",
       "5    2007-01-25 00:00:00  CADASTRO DE IMVEIS URBANOS-PATRIMNIO   \n",
       "6    2007-01-05 00:00:00  CADASTRO DE IMVEIS URBANOS-PATRIMNIO   \n",
       "7    2007-01-05 00:00:00  CADASTRO DE IMVEIS URBANOS-PATRIMNIO   \n",
       "8    2007-01-05 00:00:00  CADASTRO DE IMVEIS URBANOS-PATRIMNIO   \n",
       "9    2007-01-05 00:00:00  CADASTRO DE IMVEIS URBANOS-PATRIMNIO   \n",
       "10   2005-09-08 00:00:00  CADASTRO DE IMVEIS URBANOS-PATRIMNIO   \n",
       "11   1999-06-25 00:00:00  CADASTRO DE IMVEIS URBANOS-PATRIMNIO   \n",
       "12   1999-06-25 00:00:00  CADASTRO DE IMVEIS URBANOS-PATRIMNIO   \n",
       "13   1999-06-25 00:00:00  CADASTRO DE IMVEIS URBANOS-PATRIMNIO   \n",
       "14   1999-06-25 00:00:00  CADASTRO DE IMVEIS URBANOS-PATRIMNIO   \n",
       "15   1999-06-25 00:00:00  CADASTRO DE IMVEIS URBANOS-PATRIMNIO   \n",
       "16   2001-09-05 00:00:00  CADASTRO DE IMVEIS URBANOS-PATRIMNIO   \n",
       "17   2001-06-05 00:00:00  CADASTRO DE IMVEIS URBANOS-PATRIMNIO   \n",
       "18   2001-09-05 00:00:00  CADASTRO DE IMVEIS URBANOS-PATRIMNIO   \n",
       "19   2001-09-05 00:00:00  CADASTRO DE IMVEIS URBANOS-PATRIMNIO   \n",
       "20   2004-02-27 00:00:00  CADASTRO DE IMVEIS URBANOS-PATRIMNIO   \n",
       "21   2004-02-27 00:00:00  CADASTRO DE IMVEIS URBANOS-PATRIMNIO   \n",
       "22   2004-02-27 00:00:00  CADASTRO DE IMVEIS URBANOS-PATRIMNIO   \n",
       "23   2004-02-27 00:00:00  CADASTRO DE IMVEIS URBANOS-PATRIMNIO   \n",
       "24   2004-02-27 00:00:00  CADASTRO DE IMVEIS URBANOS-PATRIMNIO   \n",
       "25   2004-02-27 00:00:00  CADASTRO DE IMVEIS URBANOS-PATRIMNIO   \n",
       "26   2007-02-15 00:00:00  CADASTRO DE IMVEIS URBANOS-PATRIMNIO   \n",
       "27   2007-04-11 00:00:00  CADASTRO DE IMVEIS URBANOS-PATRIMNIO   \n",
       "28   2003-11-13 00:00:00  CADASTRO DE IMVEIS URBANOS-PATRIMNIO   \n",
       "29   2007-11-16 00:00:00  CADASTRO DE IMVEIS URBANOS-PATRIMNIO   \n",
       "..                   ...                                   ...   \n",
       "217  2007-05-15 00:00:00  CADASTRO DE IMVEIS URBANOS-PATRIMNIO   \n",
       "218  1111-11-11 00:00:00  CADASTRO DE IMVEIS URBANOS-PATRIMNIO   \n",
       "219  1111-11-11 00:00:00  CADASTRO DE IMVEIS URBANOS-PATRIMNIO   \n",
       "220  1111-11-11 00:00:00  CADASTRO DE IMVEIS URBANOS-PATRIMNIO   \n",
       "221  1111-11-11 00:00:00  CADASTRO DE IMVEIS URBANOS-PATRIMNIO   \n",
       "222  1111-11-11 00:00:00  CADASTRO DE IMVEIS URBANOS-PATRIMNIO   \n",
       "223  1111-11-11 00:00:00  CADASTRO DE IMVEIS URBANOS-PATRIMNIO   \n",
       "224  1111-11-11 00:00:00  CADASTRO DE IMVEIS URBANOS-PATRIMNIO   \n",
       "225  1111-11-11 00:00:00  CADASTRO DE IMVEIS URBANOS-PATRIMNIO   \n",
       "226  1111-11-11 00:00:00  CADASTRO DE IMVEIS URBANOS-PATRIMNIO   \n",
       "227  1111-11-11 00:00:00  CADASTRO DE IMVEIS URBANOS-PATRIMNIO   \n",
       "228  1111-11-11 00:00:00  CADASTRO DE IMVEIS URBANOS-PATRIMNIO   \n",
       "229  1111-11-11 00:00:00  CADASTRO DE IMVEIS URBANOS-PATRIMNIO   \n",
       "230  1111-11-11 00:00:00  CADASTRO DE IMVEIS URBANOS-PATRIMNIO   \n",
       "231  1111-11-11 00:00:00  CADASTRO DE IMVEIS URBANOS-PATRIMNIO   \n",
       "232  1111-11-11 00:00:00  CADASTRO DE IMVEIS URBANOS-PATRIMNIO   \n",
       "233  1111-11-11 00:00:00  CADASTRO DE IMVEIS URBANOS-PATRIMNIO   \n",
       "234  1111-11-11 00:00:00  CADASTRO DE IMVEIS URBANOS-PATRIMNIO   \n",
       "235  1111-11-11 00:00:00  CADASTRO DE IMVEIS URBANOS-PATRIMNIO   \n",
       "236  1111-11-11 00:00:00  CADASTRO DE IMVEIS URBANOS-PATRIMNIO   \n",
       "237  1111-11-11 00:00:00  CADASTRO DE IMVEIS URBANOS-PATRIMNIO   \n",
       "238  1111-11-11 00:00:00  CADASTRO DE IMVEIS URBANOS-PATRIMNIO   \n",
       "239  1111-11-11 00:00:00  CADASTRO DE IMVEIS URBANOS-PATRIMNIO   \n",
       "240  1111-11-11 00:00:00                CADASTRO IMVEIS RURAIS   \n",
       "241  1111-11-11 00:00:00                CADASTRO IMVEIS RURAIS   \n",
       "242  1111-11-11 00:00:00                CADASTRO IMVEIS RURAIS   \n",
       "243  1111-11-11 00:00:00                CADASTRO IMVEIS RURAIS   \n",
       "244  1111-11-11 00:00:00                CADASTRO IMVEIS RURAIS   \n",
       "245  1111-11-11 00:00:00                CADASTRO IMVEIS RURAIS   \n",
       "246  1111-11-11 00:00:00                CADASTRO IMVEIS RURAIS   \n",
       "\n",
       "                                             descricao  \\\n",
       "0                               TERRENO MATRCULA 24575   \n",
       "1                               TERRENO MATRCULA 25468   \n",
       "2                               TERRENO MATRCULA 25469   \n",
       "3                               TERRENO MATRCULA 25470   \n",
       "4                               TERRENO MATRCULA 25471   \n",
       "5                               TERRENO MATRCULA 25472   \n",
       "6                               TERRENO MATRCULA 25473   \n",
       "7                               TERRENO MATRCULA 25474   \n",
       "8                               TERRENO MATRCULA 25476   \n",
       "9                               TERRENO MATRCULA 25477   \n",
       "10   MATRCULA N 10.795- CENTRO ADMINISTRATIVO MUNIC...   \n",
       "11                             TERRENO MATRCULA 21.327   \n",
       "12                             TERRENO MATRCULA 21.328   \n",
       "13                             TERRENO MATRCULA 21.329   \n",
       "14                             TERRENO MATRCULA 21.330   \n",
       "15                             TERRENO MATRCULA 21.331   \n",
       "16                             TERRENO MATRCULA 23.338   \n",
       "17                             TERRENO MATRCULA 23.339   \n",
       "18                             TERRENO MATRCULA 23.340   \n",
       "19                             TERRENO MATRCULA 23.341   \n",
       "20                             TERRENO MATRCULA 24.356   \n",
       "21                             TERRENO MATRCULA 24.357   \n",
       "22                             TERRENO MATRCULA 24.358   \n",
       "23                             TERRENO MATRCULA 24.359   \n",
       "24                             TERRENO MATRCULA 24.401   \n",
       "25                             TERRENO MATRCULA 24.403   \n",
       "26      TERRENO MATRCULA 25594 E 12590 MATADOURO VELHO   \n",
       "27                       BAIRRO RENASCER MATRCULA 8870   \n",
       "28   EMEB ALCY VARGAS CHEUICHE-TERRENO MATRCULA 24.086   \n",
       "29                              TERRENO MATRCULA 25817   \n",
       "..                                                 ...   \n",
       "217               MORADIA TRANSITRIA- MATRCULA N 18783   \n",
       "218  4.6 TERRENO PROLONGAMENTO OESTE RUA SEVERINO R...   \n",
       "219                         TERRENO NA RU JOS DE ABREU   \n",
       "220             TERRENO NA RUA ALAN KARDEC VILA ASSUNO   \n",
       "221                       TERRENO NA RUA BARROS CASSAL   \n",
       "222  TERRENO NA RUA BENTO MANOEL ESQUINA COM BARROS...   \n",
       "223   TERRENO NA RUA PLNIO MACEDO PROLONGAMENTO DE RUA   \n",
       "224  TERRENO NA VILA SO JOAO JOAQUIM (JUNTAMENTE C/...   \n",
       "225             TERRENO NO FIM DA RUA SEVERINO RIBEIRO   \n",
       "226  TERRENO PROLONGAMENTO DA RUA BARO DO RIO BRANC...   \n",
       "227  TERRENO SITUADO NA ANTIGA CHCARA DA OLARIA HOJ...   \n",
       "228             UMA FAIXA DE TERRENO NA RUA RIO BRANCO   \n",
       "229        UMA FAIXA DE TERRENO NA RUA SENADOR MACHADO   \n",
       "230                                 ALBERGUE MUNICIPAL   \n",
       "231                            Colgio Francisco Carlos   \n",
       "232                                Creche da Vila Nova   \n",
       "233                         Largo Araci Baez Vila Nova   \n",
       "234                              POSTO MDICO VILA NOVA   \n",
       "235  Terreno na Rua General Sampaio destinado ao Pr...   \n",
       "236  Terreno na Rua Manoel ManoVila Nova destinado ...   \n",
       "237  Terreno na Vila Pombal as margens do Rio Ibira...   \n",
       "238                                  TERRENO VILA NOVA   \n",
       "239                                         Vila Tripa   \n",
       "240      ESCOLA DEMOCRATINO SILVEIRA(COXILHA VERMELHA)   \n",
       "241               ESCOLA JOO JORGENS(RIVADARIA CORREA)   \n",
       "242     ESCOLA RURAL EDELMIRO FIORAVANTE(VASCO  ALVES)   \n",
       "243  ESCOLA RURAL FRANCISCO DA COSTA SOBRINHO(VASCO...   \n",
       "244  ESCOLA RURAL JORGE DA SILVEIRA PINTO(VASCO ALVES)   \n",
       "245        ESCOLA RURAL LUIZ ARAUJO FILHO9VASCO ALVES)   \n",
       "246     ESCOLA RURAL SOBRADO(EMPRESTADA) (VASCO ALVES)   \n",
       "\n",
       "                   localizacao  \\\n",
       "0      REA DO ANTIGO AEROPORTO   \n",
       "1      REA DO ANTIGO AEROPORTO   \n",
       "2      REA DO ANTIGO AEROPORTO   \n",
       "3      REA DO ANTIGO AEROPORTO   \n",
       "4      REA DO ANTIGO AEROPORTO   \n",
       "5      REA DO ANTIGO AEROPORTO   \n",
       "6      REA DO ANTIGO AEROPORTO   \n",
       "7      REA DO ANTIGO AEROPORTO   \n",
       "8      REA DO ANTIGO AEROPORTO   \n",
       "9      REA DO ANTIGO AEROPORTO   \n",
       "10           BAIRRO MEDIANEIRA   \n",
       "11           BAIRRO MEDIANEIRA   \n",
       "12           BAIRRO MEDIANEIRA   \n",
       "13           BAIRRO MEDIANEIRA   \n",
       "14           BAIRRO MEDIANEIRA   \n",
       "15           BAIRRO MEDIANEIRA   \n",
       "16           BAIRRO MEDIANEIRA   \n",
       "17           BAIRRO MEDIANEIRA   \n",
       "18           BAIRRO MEDIANEIRA   \n",
       "19           BAIRRO MEDIANEIRA   \n",
       "20           BAIRRO MEDIANEIRA   \n",
       "21           BAIRRO MEDIANEIRA   \n",
       "22           BAIRRO MEDIANEIRA   \n",
       "23           BAIRRO MEDIANEIRA   \n",
       "24           BAIRRO MEDIANEIRA   \n",
       "25           BAIRRO MEDIANEIRA   \n",
       "26            BAIRRO PEDREIRAS   \n",
       "27             BAIRRO RENASCER   \n",
       "28        BAIRROS JOS DE ABREU   \n",
       "29              CAPO DO ANGICO   \n",
       "..                         ...   \n",
       "217                   SETOR N3   \n",
       "218                   SETOR N4   \n",
       "219                   SETOR N4   \n",
       "220                   SETOR N4   \n",
       "221                   SETOR N4   \n",
       "222                   SETOR N4   \n",
       "223                   SETOR N4   \n",
       "224                   SETOR N4   \n",
       "225                   SETOR N4   \n",
       "226                   SETOR N4   \n",
       "227                   SETOR N4   \n",
       "228                   SETOR N4   \n",
       "229                   SETOR N4   \n",
       "230                   SETOR N5   \n",
       "231                   SETOR N5   \n",
       "232                   SETOR N5   \n",
       "233                   SETOR N5   \n",
       "234                   SETOR N5   \n",
       "235                   SETOR N5   \n",
       "236                   SETOR N5   \n",
       "237                   SETOR N5   \n",
       "238                   SETOR N5   \n",
       "239                   SETOR N5   \n",
       "240  VASCO ALVES-4 SUBDISTRITO   \n",
       "241  VASCO ALVES-4 SUBDISTRITO   \n",
       "242  VASCO ALVES-4 SUBDISTRITO   \n",
       "243  VASCO ALVES-4 SUBDISTRITO   \n",
       "244  VASCO ALVES-4 SUBDISTRITO   \n",
       "245  VASCO ALVES-4 SUBDISTRITO   \n",
       "246  VASCO ALVES-4 SUBDISTRITO   \n",
       "\n",
       "                                           observacoes  \n",
       "0    Uma faixa de terreno situado zona leste no bai...  \n",
       "1    Um terreno situado zona leste no bairro projet...  \n",
       "2    Um terreno situado zona leste no bairro projet...  \n",
       "3    Um terreno situado zona leste no bairro projet...  \n",
       "4    Um terreno situado zona leste no bairro projet...  \n",
       "5    Um terreno situado zona leste no bairro projet...  \n",
       "6    Um terreno situado zona leste bifurcao formada...  \n",
       "7    Um terreno situado zona leste no bairro projet...  \n",
       "8    Uma faixa de terreno situado zona leste no bai...  \n",
       "9    Uma faixa de terreno situado zona leste no bai...  \n",
       "10   Um terreno situado nos suburbios na esquina da...  \n",
       "11                                                      \n",
       "12                                                      \n",
       "13                                                      \n",
       "14                                                      \n",
       "15                                                      \n",
       "16                                                      \n",
       "17                                                      \n",
       "18                                                      \n",
       "19                                                      \n",
       "20                                                      \n",
       "21                                                      \n",
       "22                                                      \n",
       "23                                                      \n",
       "24                                                      \n",
       "25                                                      \n",
       "26   Uma frao de terras situada nos subrbios desta ...  \n",
       "27   uma frao de terras siituada na zona urbana des...  \n",
       "28   Terreno localizado na zona urbanalindeiro ao l...  \n",
       "29   Terreno urbano situado na Vila Capo do Angico ...  \n",
       "..                                                 ...  \n",
       "217                             Matrcula no RI n 18783  \n",
       "218  Terreno prolongamento Oeste da rua Severino Ri...  \n",
       "219                          s/planta c/certido n8.808  \n",
       "220                          s/planta c/certido n4.886  \n",
       "221                         s/planta c/certido n15.108  \n",
       "222                         s/planta c/certido n10.411  \n",
       "223                         s/planta c/certido n10.195  \n",
       "224                          s/planta c/certido n1.806  \n",
       "225                   c/planta c/certido n10.19410.195  \n",
       "226                           s/planta c/certido n3713  \n",
       "227                     s/placa c/certido n13.4329.470  \n",
       "228                                  c/certido n20.164  \n",
       "229                            s/planta c/certido n621  \n",
       "230                           c/planta  c/certido  s/n  \n",
       "231                            c/planta  c/certido s/n  \n",
       "232                        s/planta  c/certido n11.387  \n",
       "233                                   (sem documentao)  \n",
       "234                          c/planta c/certido n8.586  \n",
       "235                        s/planta  c/certido n17.730  \n",
       "236                        c/planta  c/certido n12.248  \n",
       "237                        s/planta  c/certido n13.923  \n",
       "238                          s/planta c/certido n9.544  \n",
       "239              c/planta  c/certido n22.470 at 22.485  \n",
       "240                                         desativada  \n",
       "241                                         desativada  \n",
       "242                                         desativada  \n",
       "243                                         desativada  \n",
       "244                                         desativada  \n",
       "245                                         desativada  \n",
       "246                                         desativada  \n",
       "\n",
       "[247 rows x 5 columns]"
      ]
     },
     "execution_count": 27,
     "metadata": {},
     "output_type": "execute_result"
    }
   ],
   "source": [
    "df"
   ]
  },
  {
   "cell_type": "code",
   "execution_count": 30,
   "metadata": {},
   "outputs": [
    {
     "data": {
      "text/html": [
       "<div>\n",
       "<style scoped>\n",
       "    .dataframe tbody tr th:only-of-type {\n",
       "        vertical-align: middle;\n",
       "    }\n",
       "\n",
       "    .dataframe tbody tr th {\n",
       "        vertical-align: top;\n",
       "    }\n",
       "\n",
       "    .dataframe thead th {\n",
       "        text-align: right;\n",
       "    }\n",
       "</style>\n",
       "<table border=\"1\" class=\"dataframe\">\n",
       "  <thead>\n",
       "    <tr style=\"text-align: right;\">\n",
       "      <th></th>\n",
       "      <th>dataDeAquisicao</th>\n",
       "      <th>departamento</th>\n",
       "      <th>descricao</th>\n",
       "      <th>localizacao</th>\n",
       "      <th>observacoes</th>\n",
       "    </tr>\n",
       "  </thead>\n",
       "  <tbody>\n",
       "    <tr>\n",
       "      <th>0</th>\n",
       "      <td>2007-01-05 00:00:00</td>\n",
       "      <td>CADASTRO DE IMVEIS URBANOS-PATRIMNIO</td>\n",
       "      <td>TERRENO MATRCULA 24575</td>\n",
       "      <td>REA DO ANTIGO AEROPORTO</td>\n",
       "      <td>Uma faixa de terreno situado zona leste no bai...</td>\n",
       "    </tr>\n",
       "    <tr>\n",
       "      <th>1</th>\n",
       "      <td>2007-01-05 00:00:00</td>\n",
       "      <td>CADASTRO DE IMVEIS URBANOS-PATRIMNIO</td>\n",
       "      <td>TERRENO MATRCULA 25468</td>\n",
       "      <td>REA DO ANTIGO AEROPORTO</td>\n",
       "      <td>Um terreno situado zona leste no bairro projet...</td>\n",
       "    </tr>\n",
       "    <tr>\n",
       "      <th>2</th>\n",
       "      <td>2007-01-05 00:00:00</td>\n",
       "      <td>CADASTRO DE IMVEIS URBANOS-PATRIMNIO</td>\n",
       "      <td>TERRENO MATRCULA 25469</td>\n",
       "      <td>REA DO ANTIGO AEROPORTO</td>\n",
       "      <td>Um terreno situado zona leste no bairro projet...</td>\n",
       "    </tr>\n",
       "    <tr>\n",
       "      <th>3</th>\n",
       "      <td>2007-01-05 00:00:00</td>\n",
       "      <td>CADASTRO DE IMVEIS URBANOS-PATRIMNIO</td>\n",
       "      <td>TERRENO MATRCULA 25470</td>\n",
       "      <td>REA DO ANTIGO AEROPORTO</td>\n",
       "      <td>Um terreno situado zona leste no bairro projet...</td>\n",
       "    </tr>\n",
       "    <tr>\n",
       "      <th>4</th>\n",
       "      <td>2007-01-05 00:00:00</td>\n",
       "      <td>CADASTRO DE IMVEIS URBANOS-PATRIMNIO</td>\n",
       "      <td>TERRENO MATRCULA 25471</td>\n",
       "      <td>REA DO ANTIGO AEROPORTO</td>\n",
       "      <td>Um terreno situado zona leste no bairro projet...</td>\n",
       "    </tr>\n",
       "    <tr>\n",
       "      <th>5</th>\n",
       "      <td>2007-01-25 00:00:00</td>\n",
       "      <td>CADASTRO DE IMVEIS URBANOS-PATRIMNIO</td>\n",
       "      <td>TERRENO MATRCULA 25472</td>\n",
       "      <td>REA DO ANTIGO AEROPORTO</td>\n",
       "      <td>Um terreno situado zona leste no bairro projet...</td>\n",
       "    </tr>\n",
       "    <tr>\n",
       "      <th>6</th>\n",
       "      <td>2007-01-05 00:00:00</td>\n",
       "      <td>CADASTRO DE IMVEIS URBANOS-PATRIMNIO</td>\n",
       "      <td>TERRENO MATRCULA 25473</td>\n",
       "      <td>REA DO ANTIGO AEROPORTO</td>\n",
       "      <td>Um terreno situado zona leste bifurcao formada...</td>\n",
       "    </tr>\n",
       "    <tr>\n",
       "      <th>7</th>\n",
       "      <td>2007-01-05 00:00:00</td>\n",
       "      <td>CADASTRO DE IMVEIS URBANOS-PATRIMNIO</td>\n",
       "      <td>TERRENO MATRCULA 25474</td>\n",
       "      <td>REA DO ANTIGO AEROPORTO</td>\n",
       "      <td>Um terreno situado zona leste no bairro projet...</td>\n",
       "    </tr>\n",
       "    <tr>\n",
       "      <th>8</th>\n",
       "      <td>2007-01-05 00:00:00</td>\n",
       "      <td>CADASTRO DE IMVEIS URBANOS-PATRIMNIO</td>\n",
       "      <td>TERRENO MATRCULA 25476</td>\n",
       "      <td>REA DO ANTIGO AEROPORTO</td>\n",
       "      <td>Uma faixa de terreno situado zona leste no bai...</td>\n",
       "    </tr>\n",
       "    <tr>\n",
       "      <th>9</th>\n",
       "      <td>2007-01-05 00:00:00</td>\n",
       "      <td>CADASTRO DE IMVEIS URBANOS-PATRIMNIO</td>\n",
       "      <td>TERRENO MATRCULA 25477</td>\n",
       "      <td>REA DO ANTIGO AEROPORTO</td>\n",
       "      <td>Uma faixa de terreno situado zona leste no bai...</td>\n",
       "    </tr>\n",
       "  </tbody>\n",
       "</table>\n",
       "</div>"
      ],
      "text/plain": [
       "       dataDeAquisicao                          departamento  \\\n",
       "0  2007-01-05 00:00:00  CADASTRO DE IMVEIS URBANOS-PATRIMNIO   \n",
       "1  2007-01-05 00:00:00  CADASTRO DE IMVEIS URBANOS-PATRIMNIO   \n",
       "2  2007-01-05 00:00:00  CADASTRO DE IMVEIS URBANOS-PATRIMNIO   \n",
       "3  2007-01-05 00:00:00  CADASTRO DE IMVEIS URBANOS-PATRIMNIO   \n",
       "4  2007-01-05 00:00:00  CADASTRO DE IMVEIS URBANOS-PATRIMNIO   \n",
       "5  2007-01-25 00:00:00  CADASTRO DE IMVEIS URBANOS-PATRIMNIO   \n",
       "6  2007-01-05 00:00:00  CADASTRO DE IMVEIS URBANOS-PATRIMNIO   \n",
       "7  2007-01-05 00:00:00  CADASTRO DE IMVEIS URBANOS-PATRIMNIO   \n",
       "8  2007-01-05 00:00:00  CADASTRO DE IMVEIS URBANOS-PATRIMNIO   \n",
       "9  2007-01-05 00:00:00  CADASTRO DE IMVEIS URBANOS-PATRIMNIO   \n",
       "\n",
       "                descricao              localizacao  \\\n",
       "0  TERRENO MATRCULA 24575  REA DO ANTIGO AEROPORTO   \n",
       "1  TERRENO MATRCULA 25468  REA DO ANTIGO AEROPORTO   \n",
       "2  TERRENO MATRCULA 25469  REA DO ANTIGO AEROPORTO   \n",
       "3  TERRENO MATRCULA 25470  REA DO ANTIGO AEROPORTO   \n",
       "4  TERRENO MATRCULA 25471  REA DO ANTIGO AEROPORTO   \n",
       "5  TERRENO MATRCULA 25472  REA DO ANTIGO AEROPORTO   \n",
       "6  TERRENO MATRCULA 25473  REA DO ANTIGO AEROPORTO   \n",
       "7  TERRENO MATRCULA 25474  REA DO ANTIGO AEROPORTO   \n",
       "8  TERRENO MATRCULA 25476  REA DO ANTIGO AEROPORTO   \n",
       "9  TERRENO MATRCULA 25477  REA DO ANTIGO AEROPORTO   \n",
       "\n",
       "                                         observacoes  \n",
       "0  Uma faixa de terreno situado zona leste no bai...  \n",
       "1  Um terreno situado zona leste no bairro projet...  \n",
       "2  Um terreno situado zona leste no bairro projet...  \n",
       "3  Um terreno situado zona leste no bairro projet...  \n",
       "4  Um terreno situado zona leste no bairro projet...  \n",
       "5  Um terreno situado zona leste no bairro projet...  \n",
       "6  Um terreno situado zona leste bifurcao formada...  \n",
       "7  Um terreno situado zona leste no bairro projet...  \n",
       "8  Uma faixa de terreno situado zona leste no bai...  \n",
       "9  Uma faixa de terreno situado zona leste no bai...  "
      ]
     },
     "execution_count": 30,
     "metadata": {},
     "output_type": "execute_result"
    }
   ],
   "source": [
    "#todos os imoveis localizados na REA DO ANTIGO AEROPORTO\n",
    "c = df[df.localizacao == 'REA DO ANTIGO AEROPORTO']\n",
    "c"
   ]
  },
  {
   "cell_type": "code",
   "execution_count": 36,
   "metadata": {},
   "outputs": [
    {
     "data": {
      "text/plain": [
       "SETOR N15                            19\n",
       "SETOR N 11                           17\n",
       "BAIRRO MEDIANEIRA                    16\n",
       "SETOR N 1                            15\n",
       "ESCOLAS URBANAS                      15\n",
       "SETOR N 14                           12\n",
       "SETOR N4                             12\n",
       "SETOR N 9                            12\n",
       "SETOR N3                             11\n",
       "DURASNAL-3 SUBDISTRITO               11\n",
       "REA DO ANTIGO AEROPORTO              10\n",
       "SETOR N5                             10\n",
       "SETOR N  10                           8\n",
       "GUASSU-BOI-7 SUBDISTRITO              8\n",
       "VASCO ALVES-4 SUBDISTRITO             7\n",
       "SETOR N 24-  2DISTRITO-PASSO NOVO     5\n",
       "PASSO NOVO-2 DISTRITO                 5\n",
       "SETOR N 2                             4\n",
       "CATIMBAU-6 SUBDISTRITO                4\n",
       "INHANDU-5 SUBDISTRITO                 4\n",
       "SETOR N 12                            4\n",
       "SETOR N 8                             4\n",
       "ITAPOROR-2SUBDISTRITO                 4\n",
       "RINC DE SO MIGUEL-8 SUBDISTRITO       3\n",
       "SETOR N 23- 8SUBDISTRITO              3\n",
       "SETOR N 16                            3\n",
       "SETOR N 17-2 SUBDISTRITO              3\n",
       "SETOR N 6                             3\n",
       "SETOR N 7                             2\n",
       "SETOR N 21- 6SUBDISTRITO              2\n",
       "SETOR N 13                            2\n",
       "SETOR N 20- 5SUBDISTRITO              2\n",
       "SETOR N 18-3SUBDISTRITO               1\n",
       "SETOR N 19- 4SUBDISTRITO              1\n",
       "BAIRROS JOS DE ABREU                  1\n",
       "CAPO DO ANGICO                        1\n",
       "BAIRRO RENASCER                       1\n",
       "SETOR N 22- 7SUBDISTRITO              1\n",
       "BAIRRO PEDREIRAS                      1\n",
       "Name: localizacao, dtype: int64"
      ]
     },
     "execution_count": 36,
     "metadata": {},
     "output_type": "execute_result"
    }
   ],
   "source": [
    "#quantos imoveis há por localizacao?\n",
    "df[\"localizacao\"].value_counts()"
   ]
  },
  {
   "cell_type": "code",
   "execution_count": 37,
   "metadata": {},
   "outputs": [
    {
     "data": {
      "text/plain": [
       "CADASTRO DE IMVEIS URBANOS-PATRIMNIO    183\n",
       "CADASTRO IMVEIS RURAIS                   64\n",
       "Name: departamento, dtype: int64"
      ]
     },
     "execution_count": 37,
     "metadata": {},
     "output_type": "execute_result"
    }
   ],
   "source": [
    "#quantos imoveis há por departamento(urbanos e rurais)?\n",
    "df['departamento'].value_counts()"
   ]
  },
  {
   "cell_type": "code",
   "execution_count": 38,
   "metadata": {},
   "outputs": [
    {
     "data": {
      "text/plain": [
       "1"
      ]
     },
     "execution_count": 38,
     "metadata": {},
     "output_type": "execute_result"
    }
   ],
   "source": [
    "#Quantos imoveis foram adquiridos antes do ano 1/1/1999?\n",
    "calculaQuantosMenorQueData(df,datetime.strptime(\"1/1/1111\",\"%d/%m/%Y\")) "
   ]
  },
  {
   "cell_type": "code",
   "execution_count": 39,
   "metadata": {},
   "outputs": [
    {
     "data": {
      "text/plain": [
       "41"
      ]
     },
     "execution_count": 39,
     "metadata": {},
     "output_type": "execute_result"
    }
   ],
   "source": [
    "#Quantos imoveis foram adquiridos depois do ano 1/1/1999?\n",
    "calculaQuantosMaiorQueData(df,criaData(\"1/1/1999\")) "
   ]
  },
  {
   "cell_type": "code",
   "execution_count": 43,
   "metadata": {},
   "outputs": [
    {
     "data": {
      "text/plain": [
       "False    237\n",
       "True      10\n",
       "Name: observacoes, dtype: int64"
      ]
     },
     "execution_count": 43,
     "metadata": {},
     "output_type": "execute_result"
    }
   ],
   "source": [
    "#quantos imoveis estao na zona leste e quantos não são?\n",
    "containsObs(df,\"zona leste\")"
   ]
  },
  {
   "cell_type": "code",
   "execution_count": 45,
   "metadata": {},
   "outputs": [
    {
     "data": {
      "text/plain": [
       "1"
      ]
     },
     "execution_count": 45,
     "metadata": {},
     "output_type": "execute_result"
    }
   ],
   "source": [
    "#quantos imoveis no bairro capao do angico\n",
    "df.localizacao[df.localizacao == \"CAPO DO ANGICO\"].count()"
   ]
  },
  {
   "cell_type": "code",
   "execution_count": 46,
   "metadata": {},
   "outputs": [
    {
     "data": {
      "text/plain": [
       "1111-11-11 00:00:00    192\n",
       "2007-01-05 00:00:00      9\n",
       "2004-02-27 00:00:00      6\n",
       "1999-06-25 00:00:00      5\n",
       "2001-09-05 00:00:00      3\n",
       "2007-11-16 00:00:00      2\n",
       "2011-09-08 00:00:00      2\n",
       "1976-12-09 00:00:00      1\n",
       "1988-04-05 00:00:00      1\n",
       "1992-05-05 00:00:00      1\n",
       "2009-01-01 00:00:00      1\n",
       "2015-01-01 00:00:00      1\n",
       "2007-09-12 00:00:00      1\n",
       "1984-12-03 00:00:00      1\n",
       "1980-01-28 00:00:00      1\n",
       "1984-03-15 00:00:00      1\n",
       "2007-02-15 00:00:00      1\n",
       "1990-04-26 00:00:00      1\n",
       "2003-11-13 00:00:00      1\n",
       "1979-03-27 00:00:00      1\n",
       "2005-09-08 00:00:00      1\n",
       "2008-01-24 00:00:00      1\n",
       "2007-05-15 00:00:00      1\n",
       "2006-11-23 00:00:00      1\n",
       "1985-12-31 00:00:00      1\n",
       "2007-10-19 00:00:00      1\n",
       "1982-01-27 00:00:00      1\n",
       "2013-05-21 00:00:00      1\n",
       "2001-06-05 00:00:00      1\n",
       "2007-04-11 00:00:00      1\n",
       "1985-07-29 00:00:00      1\n",
       "0206-10-06 00:00:00      1\n",
       "2007-01-25 00:00:00      1\n",
       "1978-11-14 00:00:00      1\n",
       "1990-06-20 00:00:00      1\n",
       "Name: dataDeAquisicao, dtype: int64"
      ]
     },
     "execution_count": 46,
     "metadata": {},
     "output_type": "execute_result"
    }
   ],
   "source": [
    "#quantos imoveis há por localizacao?\n",
    "df[\"dataDeAquisicao\"].value_counts()"
   ]
  },
  {
   "cell_type": "code",
   "execution_count": 100,
   "metadata": {},
   "outputs": [
    {
     "data": {
      "text/plain": [
       "CADASTRO DE IMVEIS URBANOS-PATRIMNIO    183\n",
       "CADASTRO IMVEIS RURAIS                   64\n",
       "Name: departamento, dtype: int64"
      ]
     },
     "execution_count": 100,
     "metadata": {},
     "output_type": "execute_result"
    },
    {
     "data": {
      "image/png": "[encoded data removed]",
      "text/plain": [
       "<matplotlib.figure.Figure at 0x1f4ea651f60>"
      ]
     },
     "metadata": {},
     "output_type": "display_data"
    }
   ],
   "source": [
    "#Rural x Urbano\n",
    "a = pd.DataFrame(df['departamento'].value_counts())\n",
    "a\n",
    "a.plot.barh()\n",
    "df['departamento'].value_counts()"
   ]
  },
  {
   "cell_type": "code",
   "execution_count": 114,
   "metadata": {},
   "outputs": [
    {
     "data": {
      "text/plain": [
       "<matplotlib.axes._subplots.AxesSubplot at 0x1f4ebbfd2e8>"
      ]
     },
     "execution_count": 114,
     "metadata": {},
     "output_type": "execute_result"
    },
    {
     "data": {
      "image/png": "[encoded data removed]",
      "text/plain": [
       "<matplotlib.figure.Figure at 0x1f4ebc8ceb8>"
      ]
     },
     "metadata": {},
     "output_type": "display_data"
    }
   ],
   "source": [
    "a = pd.DataFrame(df[\"localizacao\"].value_counts())\n",
    "a\n",
    "a.plot.bar()"
   ]
  },
  {
   "cell_type": "code",
   "execution_count": 110,
   "metadata": {},
   "outputs": [
    {
     "data": {
      "text/plain": [
       "1111-11-11 00:00:00    192\n",
       "2007-01-05 00:00:00      9\n",
       "2004-02-27 00:00:00      6\n",
       "1999-06-25 00:00:00      5\n",
       "2001-09-05 00:00:00      3\n",
       "2007-11-16 00:00:00      2\n",
       "2011-09-08 00:00:00      2\n",
       "1976-12-09 00:00:00      1\n",
       "1988-04-05 00:00:00      1\n",
       "1992-05-05 00:00:00      1\n",
       "2009-01-01 00:00:00      1\n",
       "2015-01-01 00:00:00      1\n",
       "2007-09-12 00:00:00      1\n",
       "1984-12-03 00:00:00      1\n",
       "1980-01-28 00:00:00      1\n",
       "1984-03-15 00:00:00      1\n",
       "2007-02-15 00:00:00      1\n",
       "1990-04-26 00:00:00      1\n",
       "2003-11-13 00:00:00      1\n",
       "1979-03-27 00:00:00      1\n",
       "2005-09-08 00:00:00      1\n",
       "2008-01-24 00:00:00      1\n",
       "2007-05-15 00:00:00      1\n",
       "2006-11-23 00:00:00      1\n",
       "1985-12-31 00:00:00      1\n",
       "2007-10-19 00:00:00      1\n",
       "1982-01-27 00:00:00      1\n",
       "2013-05-21 00:00:00      1\n",
       "2001-06-05 00:00:00      1\n",
       "2007-04-11 00:00:00      1\n",
       "1985-07-29 00:00:00      1\n",
       "0206-10-06 00:00:00      1\n",
       "2007-01-25 00:00:00      1\n",
       "1978-11-14 00:00:00      1\n",
       "1990-06-20 00:00:00      1\n",
       "Name: dataDeAquisicao, dtype: int64"
      ]
     },
     "execution_count": 110,
     "metadata": {},
     "output_type": "execute_result"
    }
   ],
   "source": []
  },
  {
   "cell_type": "code",
   "execution_count": 115,
   "metadata": {},
   "outputs": [
    {
     "name": "stdout",
     "output_type": "stream",
     "text": [
      "0\n",
      "1\n",
      "4\n",
      "5\n",
      "3\n",
      "0\n",
      "5\n",
      "11\n",
      "19\n",
      "4\n",
      "2\n",
      "0\n"
     ]
    }
   ],
   "source": [
    "print (imoveisPorMandato(df,criaData(\"1/1/1968\"),criaData(\"31/12/1972\")))\n",
    "print (imoveisPorMandato(df,criaData(\"1/1/1973\"),criaData(\"31/12/1976\")))\n",
    "print (imoveisPorMandato(df,criaData(\"1/1/1977\"),criaData(\"31/12/1982\")))\n",
    "print (imoveisPorMandato(df,criaData(\"1/1/1983\"),criaData(\"31/12/1988\")))\n",
    "print (imoveisPorMandato(df,criaData(\"1/1/1989\"),criaData(\"31/12/1992\")))\n",
    "print (imoveisPorMandato(df,criaData(\"1/1/1993\"),criaData(\"31/12/1996\")))\n",
    "print (imoveisPorMandato(df,criaData(\"1/1/1997\"),criaData(\"31/12/2000\")))\n",
    "print (imoveisPorMandato(df,criaData(\"1/1/2001\"),criaData(\"31/12/2004\")))\n",
    "print (imoveisPorMandato(df,criaData(\"1/1/2005\"),criaData(\"31/12/2007\")))\n",
    "print (imoveisPorMandato(df,criaData(\"1/1/2008\"),criaData(\"31/12/2011\")))\n",
    "print (imoveisPorMandato(df,criaData(\"1/1/2012\"),criaData(\"31/12/2016\")))\n",
    "print (imoveisPorMandato(df,criaData(\"1/1/2016\"),criaData(\"31/12/2018\")))\n"
   ]
  },
  {
   "cell_type": "code",
   "execution_count": 119,
   "metadata": {},
   "outputs": [
    {
     "data": {
      "text/plain": [
       "<matplotlib.axes._subplots.AxesSubplot at 0x1f4ebe13b00>"
      ]
     },
     "execution_count": 119,
     "metadata": {},
     "output_type": "execute_result"
    },
    {
     "data": {
      "image/png": "[encoded data removed]",
      "text/plain": [
       "<matplotlib.figure.Figure at 0x1f4ebf039b0>"
      ]
     },
     "metadata": {},
     "output_type": "display_data"
    }
   ],
   "source": [
    "s = [0,1,4,5,3,0,5,11,19,4,2,0]\n",
    "a = pd.DataFrame(s,index=['1/1/1968 - 31/12/1972', '1/1/1973 - 31/12/1976', '1/1/1977 - 31/12/1982', '1/1/1983 - 31/12/1988'\n",
    "                          , '1/1/1989 - 31/12/1992', '1/1/1993 - 31/12/1996','1/1/1997 - 31/12/2000','1/1/2001 - 31/12/2004',\n",
    "                          '1/1/2005 - 31/12/2007','1/1/2008 - 31/12/2011','1/1/2012 - 31/12/2016','1/1/2016 - 31/12/2018'])\n",
    "a\n",
    "a.plot.bar()"
   ]
  },
  {
   "cell_type": "code",
   "execution_count": null,
   "metadata": {},
   "outputs": [],
   "source": []
  }
 ],
 "metadata": {
  "kernelspec": {
   "display_name": "Python 3",
   "language": "python",
   "name": "python3"
  },
  "language_info": {
   "codemirror_mode": {
    "name": "ipython",
    "version": 3
   },
   "file_extension": ".py",
   "mimetype": "text/x-python",
   "name": "python",
   "nbconvert_exporter": "python",
   "pygments_lexer": "ipython3",
   "version": "3.6.4"
  }
 },
 "nbformat": 4,
 "nbformat_minor": 2
}
